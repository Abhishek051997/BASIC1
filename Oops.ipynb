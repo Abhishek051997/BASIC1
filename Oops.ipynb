{
 "cells": [
  {
   "cell_type": "code",
   "execution_count": 1,
   "id": "87203c4a-4dcd-4dcd-9f66-6bdc75ae6c94",
   "metadata": {},
   "outputs": [],
   "source": [
    "a = 1"
   ]
  },
  {
   "cell_type": "code",
   "execution_count": 2,
   "id": "a093d5ef-0516-41ec-b23e-c891fda3e5aa",
   "metadata": {},
   "outputs": [
    {
     "name": "stdout",
     "output_type": "stream",
     "text": [
      "<class 'int'>\n"
     ]
    }
   ],
   "source": [
    "print(type(a))"
   ]
  },
  {
   "cell_type": "code",
   "execution_count": 3,
   "id": "3b147ea6-fb2f-41b3-945a-e194a3f87461",
   "metadata": {},
   "outputs": [
    {
     "name": "stdout",
     "output_type": "stream",
     "text": [
      "<class 'str'>\n"
     ]
    }
   ],
   "source": [
    "print(type(\"pwkills\"))"
   ]
  },
  {
   "cell_type": "code",
   "execution_count": 4,
   "id": "20090694-494f-4840-80d0-8f142b6938cd",
   "metadata": {},
   "outputs": [],
   "source": [
    "class test :\n",
    "    pass"
   ]
  },
  {
   "cell_type": "code",
   "execution_count": 5,
   "id": "19e681f5-085b-4a04-b5eb-75597fd78170",
   "metadata": {},
   "outputs": [],
   "source": [
    "a = test ()"
   ]
  },
  {
   "cell_type": "code",
   "execution_count": 6,
   "id": "a9ec2ffe-c679-4f5d-a6f1-1d557f77ef2f",
   "metadata": {},
   "outputs": [
    {
     "data": {
      "text/plain": [
       "__main__.test"
      ]
     },
     "execution_count": 6,
     "metadata": {},
     "output_type": "execute_result"
    }
   ],
   "source": [
    "type(a)"
   ]
  },
  {
   "cell_type": "code",
   "execution_count": 7,
   "id": "c2a1acb9-00ed-4d6e-ab96-d909778abf36",
   "metadata": {},
   "outputs": [
    {
     "name": "stdout",
     "output_type": "stream",
     "text": [
      "<class '__main__.test'>\n"
     ]
    }
   ],
   "source": [
    "print(type(a))"
   ]
  },
  {
   "cell_type": "code",
   "execution_count": 8,
   "id": "c29ca985-6dce-4b00-aeff-851221eacf80",
   "metadata": {},
   "outputs": [],
   "source": [
    "class pwskills:\n",
    "    def welcome_msg():\n",
    "        print (\"welcome to pwskills\")"
   ]
  },
  {
   "cell_type": "code",
   "execution_count": 6,
   "id": "3cafe0d8-277e-4d46-ad12-fb4d86694e57",
   "metadata": {},
   "outputs": [
    {
     "ename": "TypeError",
     "evalue": "pwskills.__init__() missing 2 required positional arguments: 'phone_number' and 'emai_id'",
     "output_type": "error",
     "traceback": [
      "\u001b[0;31m---------------------------------------------------------------------------\u001b[0m",
      "\u001b[0;31mTypeError\u001b[0m                                 Traceback (most recent call last)",
      "Cell \u001b[0;32mIn[6], line 1\u001b[0m\n\u001b[0;32m----> 1\u001b[0m rohan \u001b[38;5;241m=\u001b[39m \u001b[43mpwskills\u001b[49m\u001b[43m(\u001b[49m\u001b[43m)\u001b[49m\n",
      "\u001b[0;31mTypeError\u001b[0m: pwskills.__init__() missing 2 required positional arguments: 'phone_number' and 'emai_id'"
     ]
    }
   ],
   "source": [
    "rohan = pwskills()"
   ]
  },
  {
   "cell_type": "code",
   "execution_count": 7,
   "id": "31a07086-26b2-4f19-9545-ccb703e005ff",
   "metadata": {},
   "outputs": [
    {
     "ename": "NameError",
     "evalue": "name 'rohan' is not defined",
     "output_type": "error",
     "traceback": [
      "\u001b[0;31m---------------------------------------------------------------------------\u001b[0m",
      "\u001b[0;31mNameError\u001b[0m                                 Traceback (most recent call last)",
      "Cell \u001b[0;32mIn[7], line 1\u001b[0m\n\u001b[0;32m----> 1\u001b[0m \u001b[38;5;28mprint\u001b[39m(\u001b[38;5;28mtype\u001b[39m(\u001b[43mrohan\u001b[49m))\n",
      "\u001b[0;31mNameError\u001b[0m: name 'rohan' is not defined"
     ]
    }
   ],
   "source": [
    "print(type(rohan))"
   ]
  },
  {
   "cell_type": "code",
   "execution_count": 13,
   "id": "67fb193b-3d26-4c35-8ba4-035b2705c6d3",
   "metadata": {},
   "outputs": [],
   "source": [
    "class pwskills :\n",
    "    def __init__(self,phone_number, email_id,):\n",
    "        self.phone_number = phone_number \n",
    "        self.email_id = email_id\n",
    "    def return_student_deetails(self):\n",
    "        return self.phone_number, self.email_id"
   ]
  },
  {
   "cell_type": "code",
   "execution_count": 14,
   "id": "55239199-ec31-40c5-848f-6618990aa273",
   "metadata": {},
   "outputs": [],
   "source": [
    "rohan = pwskills(1231234,\"asd@gmail.com\")"
   ]
  },
  {
   "cell_type": "code",
   "execution_count": 16,
   "id": "7e8432e9-2282-4670-860f-8991656cf1ab",
   "metadata": {},
   "outputs": [
    {
     "data": {
      "text/plain": [
       "(1231234, 'asd@gmail.com')"
      ]
     },
     "execution_count": 16,
     "metadata": {},
     "output_type": "execute_result"
    }
   ],
   "source": [
    "rohan.return_student_deetails()"
   ]
  },
  {
   "cell_type": "code",
   "execution_count": 18,
   "id": "0db0314d-2cd3-472d-a094-d3b725a94188",
   "metadata": {},
   "outputs": [],
   "source": [
    "abhi = pwskills(234567, \"asdfgh@gmail.com\")"
   ]
  },
  {
   "cell_type": "code",
   "execution_count": 19,
   "id": "b8739058-23c7-49c8-b46b-c424bd1632fd",
   "metadata": {},
   "outputs": [
    {
     "data": {
      "text/plain": [
       "(234567, 'asdfgh@gmail.com')"
      ]
     },
     "execution_count": 19,
     "metadata": {},
     "output_type": "execute_result"
    }
   ],
   "source": [
    "abhi.return_student_deetails()"
   ]
  },
  {
   "cell_type": "code",
   "execution_count": null,
   "id": "a2012a41-adee-4974-88b2-4e20a7c88e0b",
   "metadata": {},
   "outputs": [],
   "source": []
  }
 ],
 "metadata": {
  "kernelspec": {
   "display_name": "Python 3 (ipykernel)",
   "language": "python",
   "name": "python3"
  },
  "language_info": {
   "codemirror_mode": {
    "name": "ipython",
    "version": 3
   },
   "file_extension": ".py",
   "mimetype": "text/x-python",
   "name": "python",
   "nbconvert_exporter": "python",
   "pygments_lexer": "ipython3",
   "version": "3.10.8"
  }
 },
 "nbformat": 4,
 "nbformat_minor": 5
}
