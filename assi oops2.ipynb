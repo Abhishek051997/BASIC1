{
 "cells": [
  {
   "cell_type": "markdown",
   "id": "6d4965e1-156d-4699-b92e-daab149c62f9",
   "metadata": {},
   "source": [
    "Q1- Which function is used to open a file? What are the different modes of opening a file? Explain each mode\n",
    "of file opening.\n",
    "\n",
    "ANS-The open() function opens a file, and returns it as a file object.\n",
    "Python has several functions for creating, reading, updating, and deleting files.\n",
    "\n",
    "File Handling\n",
    "The key function for working with files in Python is the open() function.\n",
    "\n",
    "The open() function takes two parameters; filename, and mode.\n",
    "\n",
    "There are four different methods (modes) for opening a file:\n",
    "\n",
    "\"r\" - Read - Default value. Opens a file for reading, error if the file does not exist\n",
    "\n",
    "\"a\" - Append - Opens a file for appending, creates the file if it does not exist\n",
    "\n",
    "\"w\" - Write - Opens a file for writing, creates the file if it does not exist\n",
    "\n",
    "\"x\" - Create - Creates the specified file, returns an error if the file exists\n",
    "\n",
    "In addition you can specify if the file should be handled as binary or text mode\n",
    "\n",
    "\"t\" - Text - Default value. Text mode\n",
    "\n",
    "\"b\" - Binary - Binary mode \n",
    "\n",
    "Syntax\n",
    "To open a file for reading it is enough to specify the name of the file:\n",
    "\n",
    "f = open(\"demofile.txt\")\n",
    "The code above is the same as:\n",
    "\n",
    "f = open(\"demofile.txt\", \"rt\")\n",
    "Because \"r\" for read, and \"t\" for text are the default values, you do not need to specify them."
   ]
  },
  {
   "cell_type": "markdown",
   "id": "8733324d-0035-4489-b169-1ef3e7b846cf",
   "metadata": {},
   "source": [
    "Q2. Why close() function is used? Why is it important to close a file?\n",
    "\n",
    "ans-Because files are limited resources managed by the operating system, making sure files are closed after use will protect against hard-to-debug issues like running out of file handles or experiencing corrupted data.\n",
    "Closing a file after use is important because it frees up system resources that are being used by the file. When a file is open, the operating system allocates memory and other resources to the file, which can potentially impact the performance of the system if too many files are open at the same time"
   ]
  },
  {
   "cell_type": "markdown",
   "id": "c643b66c-6de5-40c7-9314-becec367256e",
   "metadata": {},
   "source": [
    "Q4. Explain the following with python code: read(), readline() and readlines().\n",
    "\n",
    "Ans-The readline() method returns one line from the file. You can also specified how many bytes from the line to return, by using the size parameter.\n",
    "\n",
    "The readlines() method returns a list containing each line in the file as a list item.\n",
    "\n",
    "Use the hint parameter to limit the number of lines returned. If the total number of bytes returned exceeds the specified number, no more lines are returned.\n",
    "\n",
    "The readlines() method returns a list containing each line in the file as a list item.\n",
    "\n",
    "Use the hint parameter to limit the number of lines returned. If the total number of bytes returned exceeds the specified number, no more lines are returned.\n",
    "\n",
    "Python readline()\n",
    "The readline method reads a single line from a file and returns it as a string. This means that if you use readline, you can read the contents of a file line by line, which can be useful for processing large files that do not fit in memory.\n",
    " \n",
    "with open(\"file.txt\", \"r\") as file:\n",
    "    line = file.readline()\n",
    "    while line:\n",
    "        print(line.strip())\n",
    "        line = file.readline()\n",
    "\n",
    "Python readlines()\n",
    "The readline method reads a single line from a file and returns it as a string, while the readlines method reads the entire contents of a file and returns it as a list of strings, where each element of the list is a single line of the file. You can see the difference of readline() and readlines() methods from the following example:\n",
    " \n",
    "with open(\"file.txt\") as f:\n",
    "    line = f.readline()\n",
    "    print(line)# Prints the first line of the file\n",
    " \n",
    "lines = f.readlines()\n",
    "print(lines) # Prints a list of all the lines in the file after the first "
   ]
  },
  {
   "cell_type": "markdown",
   "id": "821c57c5-7c25-4f2e-8a2e-8e156c752266",
   "metadata": {},
   "source": [
    "Q5. Explain why with statement is used with open(). What is the advantage of using with statement and\n",
    "open() together?\n",
    "\n",
    "ans-In Python, with statement is used in exception handling to make the code cleaner and much more readable. It simplifies the management of common resources like file streams. Observe the following code example on how the use of with statement makes code cleaner. \n",
    "The with statement works with the open() function to open a file. Unlike open() where you have to close the file with the close() method, the with statement closes the file for you without you telling it to. This is because the with statement calls 2 built-in methods behind the scene – __enter()__ and __exit()__\n",
    "n Python, you can access a file by using the open() method. However, using the open() method directly requires you to use the close() method to close the file explicitly. Instead, you can create a context using the with Open statement in python.\n"
   ]
  },
  {
   "cell_type": "code",
   "execution_count": null,
   "id": "4f103812-510c-4a0f-b5b3-50a12591ef43",
   "metadata": {},
   "outputs": [],
   "source": []
  }
 ],
 "metadata": {
  "kernelspec": {
   "display_name": "Python 3 (ipykernel)",
   "language": "python",
   "name": "python3"
  },
  "language_info": {
   "codemirror_mode": {
    "name": "ipython",
    "version": 3
   },
   "file_extension": ".py",
   "mimetype": "text/x-python",
   "name": "python",
   "nbconvert_exporter": "python",
   "pygments_lexer": "ipython3",
   "version": "3.10.8"
  }
 },
 "nbformat": 4,
 "nbformat_minor": 5
}
