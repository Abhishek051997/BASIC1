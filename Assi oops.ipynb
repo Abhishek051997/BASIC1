{
 "cells": [
  {
   "cell_type": "markdown",
   "id": "a2a941e4-58de-4f33-ba20-07388900d1d1",
   "metadata": {},
   "source": [
    "Q1. What is Abstraction in OOps? Explain with an example.\n",
    "\n",
    "Ans-  Abstraction in python is defined as a process of handling complexity by hiding unnecessary information from the user. This is one of the core concepts of object-oriented programming (OOP)\n",
    "exp-  class car:\n",
    "    def __init__(self,year,make,model,speed):\n",
    "        self.__year = year \n",
    "        self.__make = make\n",
    "        self.__model = model\n",
    "        self. __speed = 0\n",
    "    def set_speed(self,speed):\n",
    "        self.__speed = 0 if speed < 0 else speed \n",
    "    def get_speed(self) :\n",
    "        return self.__speed\n",
    "        \n",
    "        "
   ]
  },
  {
   "cell_type": "markdown",
   "id": "e56921dc-4d6d-449f-8f50-3c87a4c9a877",
   "metadata": {},
   "source": [
    "Q2 Differentiate between Abstraction and Encapsulation. Explain with an example.\n",
    "\n",
    "ANS-Abstraction is a feature of OOPs that hides the unnecessary detail but shows the essential information. Encapsulation is also a feature of OOPs. It hides the code and data into a single entity or unit so that the data can be protected from the outside world.\n",
    "\n"
   ]
  },
  {
   "cell_type": "markdown",
   "id": "d5ef0f38-9c72-4b63-9ea9-f7569a3205c6",
   "metadata": {},
   "source": [
    "Q3. Q3. What is abc module in python? Why is it used?\n",
    "\n",
    "ANS-Why is ABC useful in Python?\n",
    "Python has an abc module that provides infrastructure for defining abstract base classes. The ABC class from the abc module can be used to create an abstract class. ABC is a helper class that has ABCMeta as its metaclass, and we can also define abstract classes by passing the metaclass keyword and using ABCMeta"
   ]
  },
  {
   "cell_type": "markdown",
   "id": "33dcbb05-d343-4a28-a979-7dad93569290",
   "metadata": {},
   "source": [
    "Q4. How can we achieve data abstraction?\n",
    "\n",
    "ANS-In Python, abstraction can be achieved by having/using abstract classes and methods in our programs. Understanding Abstract Methods and Classes: An abstract method is a method that is declared, but does not contain implementation\n"
   ]
  },
  {
   "cell_type": "markdown",
   "id": "87db0440-3ddd-4cd6-a381-02f66e92c1a7",
   "metadata": {},
   "source": [
    "Q5. Can we create an instance of an abstract class? Explain your answer.\n",
    "\n",
    "ANS-In object-oriented programming, an abstract class is a class that cannot be instantiated. However, you can create classes that inherit from an abstract class.\n",
    "\n",
    "Typically, you use an abstract class to create a blueprint for other classes.\n",
    "\n",
    "Similarly, an abstract method is an method without an implementation. An abstract class may or may not include abstract methods.\n",
    "\n",
    "Python doesn’t directly support abstract classes. But it does offer a module that allows you to define abstract classes.\n",
    "To define an abstract class, you use the abc (abstract base class) module.\n",
    "\n",
    "The abc module provides you with the infrastructure for defining abstract base classes.\n",
    "\n",
    "For example:\n",
    "\n",
    "from abc import ABC\n",
    "\n",
    "\n",
    "class AbstractClassName(ABC):\n",
    "    pass"
   ]
  },
  {
   "cell_type": "code",
   "execution_count": null,
   "id": "df4404c2-fc50-4c58-b037-341ad2c19b4b",
   "metadata": {},
   "outputs": [],
   "source": []
  }
 ],
 "metadata": {
  "kernelspec": {
   "display_name": "Python 3 (ipykernel)",
   "language": "python",
   "name": "python3"
  },
  "language_info": {
   "codemirror_mode": {
    "name": "ipython",
    "version": 3
   },
   "file_extension": ".py",
   "mimetype": "text/x-python",
   "name": "python",
   "nbconvert_exporter": "python",
   "pygments_lexer": "ipython3",
   "version": "3.10.8"
  }
 },
 "nbformat": 4,
 "nbformat_minor": 5
}
